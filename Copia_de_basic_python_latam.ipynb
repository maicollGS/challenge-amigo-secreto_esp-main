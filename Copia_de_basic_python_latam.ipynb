{
  "nbformat": 4,
  "nbformat_minor": 0,
  "metadata": {
    "colab": {
      "provenance": [],
      "include_colab_link": true
    },
    "kernelspec": {
      "name": "python3",
      "display_name": "Python 3"
    },
    "language_info": {
      "name": "python"
    }
  },
  "cells": [
    {
      "cell_type": "markdown",
      "metadata": {
        "id": "view-in-github",
        "colab_type": "text"
      },
      "source": [
        "<a href=\"https://colab.research.google.com/github/maicollGS/challenge-amigo-secreto_esp-main/blob/main/Copia_de_basic_python_latam.ipynb\" target=\"_parent\"><img src=\"https://colab.research.google.com/assets/colab-badge.svg\" alt=\"Open In Colab\"/></a>"
      ]
    },
    {
      "cell_type": "markdown",
      "source": [
        "# 1. Bases del Lenguaje"
      ],
      "metadata": {
        "id": "n0yPArSr8T2t"
      }
    },
    {
      "cell_type": "markdown",
      "source": [
        "### Bases y sintaxis"
      ],
      "metadata": {
        "id": "7cGlttjgDne_"
      }
    },
    {
      "cell_type": "markdown",
      "source": [
        "| Concepto | Código de Ejemplo | Explicación |\n",
        "| :--- | :--- | :--- |\n",
        "| **Primer Programa** | `print(\"¡Hola, clase!\")` | Muestra un mensaje en la consola. |\n",
        "| **Comentarios** | `# Esto es un comentario, Python lo ignora` | Útil para documentar el código. |\n",
        "| **Sintaxis y Sangría** | `if 5 > 2:`<br><br>`     print(\"Cinco es mayor que dos\")` | La **sangría (4 espacios)** es obligatoria. Define bloques de código. |"
      ],
      "metadata": {
        "id": "-2nzKwYf8-H1"
      }
    },
    {
      "cell_type": "markdown",
      "source": [
        "### Variables y Tipos de Datos"
      ],
      "metadata": {
        "id": "fT1GvCp7-xhw"
      }
    },
    {
      "cell_type": "markdown",
      "source": [
        "| Tipo de Dato | Concepto | Código de Ejemplo |\n",
        "| :--- | :--- | :--- |\n",
        "| **Entero (`int`)** | Números sin decimales. | `edad = 30` |\n",
        "| **Flotante (`float`)** | Números con decimales. | `precio = 19.99` |\n",
        "| **Cadena (`str`)** | Texto. Se usa con comillas. | `nombre = \"Ana\"` |\n",
        "| **Booleano (`bool`)** | Valores lógicos: `True` o `False`. | `es_estudiante = True` |\n",
        "| **Inspección** | Ver el tipo de dato. | `print(type(edad))` |"
      ],
      "metadata": {
        "id": "RWETNqQu-XQM"
      }
    },
    {
      "cell_type": "markdown",
      "source": [
        "### Operadores Básicos"
      ],
      "metadata": {
        "id": "pWseYWWt_xVk"
      }
    },
    {
      "cell_type": "markdown",
      "source": [
        "| Concepto | Operador | Código de Ejemplo | Resultado |\n",
        "| :--- | :--- | :--- | :--- |\n",
        "| **Aritméticos** | Suma, Resta, Mult, Div | `print(10 + 5)`<br><br>`print(10 / 3)` | `15`<br><br>`3.333...` |\n",
        "| **Especiales** | Potencia, División Entera | `print(2 ** 3)`<br><br>`print(10 // 3)` | `8`<br><br>`3` |\n",
        "| **Comparación** | Igualdad, Mayor que | `print(edad == 30)`<br><br>`print(precio > 20)` | `True`<br><br>`False` |\n",
        "| **Lógicos** | AND | `print(True and False)` | `False` |\n",
        "| **Lógicos** | OR | `print(True or False)` | `True` |"
      ],
      "metadata": {
        "id": "X0Ggv6up_FJB"
      }
    },
    {
      "cell_type": "markdown",
      "source": [
        "### Listas (La Colección más Común)"
      ],
      "metadata": {
        "id": "3Pl5pPAwBe3F"
      }
    },
    {
      "cell_type": "markdown",
      "source": [
        "| Concepto | Código de Ejemplo | Explicación |\n",
        "| :--- | :--- | :--- |\n",
        "| **Creación** | `frutas = [\"manzana\", \"banana\", \"kiwi\"]` | Colección ordenada y **mutable** (se puede cambiar). |\n",
        "| **Acceso** | `print(frutas[1])` | Acceso por índice (empieza en **0**). |\n",
        "| **Métodos** | `frutas.append(\"naranja\")`<br><br>`frutas.pop(0)` | Agregar al final.<br>Eliminar por índice. |\n",
        "| **Tamaño** | `print(len(frutas))` | Obtener la cantidad de elementos. |"
      ],
      "metadata": {
        "id": "i5EaIuogBTLK"
      }
    },
    {
      "cell_type": "markdown",
      "source": [
        "### Tuplas y Diccionarios"
      ],
      "metadata": {
        "id": "yeaulNSdAlt9"
      }
    },
    {
      "cell_type": "markdown",
      "source": [
        "| Colección | Concepto | Código de Ejemplo |\n",
        "| :--- | :--- | :--- |\n",
        "| **Tupla** | Colección ordenada e **inmutable**. | `coordenadas = (10, 25)`<br><br>`print(coordenadas[0])` |\n",
        "| **Diccionario** | Pares de **clave-valor**. Desordenada y mutable. | `persona = {`<br><br>`  \"nombre\": \"Leo\",`<br><br>`  \"edad\": 25`<br><br>`}` |\n",
        "| **Acceso (Diccionario)** | `print(persona[\"nombre\"])`<br><br>`persona[\"ciudad\"] = \"Madrid\"` | Acceso usando la **clave**.<br><br>Añadir o modificar un par. |"
      ],
      "metadata": {
        "id": "jmIDKjEWAeAN"
      }
    },
    {
      "cell_type": "markdown",
      "source": [
        "# 2. Control de Flujo: Condicionales y Bucles"
      ],
      "metadata": {
        "id": "6FFcLrifByRZ"
      }
    },
    {
      "cell_type": "markdown",
      "source": [
        "### Sentencias Condicionales"
      ],
      "metadata": {
        "id": "f_dEtgHKCH9Z"
      }
    },
    {
      "cell_type": "markdown",
      "source": [
        "| Estructura | Código de Ejemplo | Explicación |\n",
        "| :--- | :--- | :--- |\n",
        "| **`if` y `else`** | `temperatura = 35`<br><br>`if temperatura > 30:`<br><br>`  print(\"Hace calor\")`<br><br>`else:`<br><br>`  print(\"Temperatura agradable\")` | Ejecuta un bloque si la condición es `True`, sino, el otro. |\n",
        "| **`elif`** | `hora = 14`<br><br>`if hora < 12:`<br><br>`  print(\"Mañana\")`<br><br>`elif hora < 18:`<br><br>`  print(\"Tarde\")`<br><br>`else:`<br><br>`  print(\"Noche\")` | Evalúa múltiples condiciones secuencialmente. |"
      ],
      "metadata": {
        "id": "_Ol4yyQQCOSY"
      }
    },
    {
      "cell_type": "markdown",
      "source": [
        "### Bucle *for* (Iteración Definida)"
      ],
      "metadata": {
        "id": "1tLhyGZVC4AQ"
      }
    },
    {
      "cell_type": "markdown",
      "source": [
        "| Concepto | Código de Ejemplo | Explicación |\n",
        "| :--- | :--- | :--- |\n",
        "| **Iterar Lista** | `colores = [\"rojo\", \"azul\"]`<br><br>`for color in colores:`<br><br>`  print(f\"Me gusta el color {color}\")` | Recorre cada elemento de la colección. |\n",
        "| **Iterar Rango** | `for i in range(3):`<br><br>`  print(i)` | Imprime `0`, `1`, `2`. Útil para repetir un número fijo de veces. |"
      ],
      "metadata": {
        "id": "HePFqPglEB5f"
      }
    },
    {
      "cell_type": "markdown",
      "source": [
        "### Bucle while (Iteración Condicional)"
      ],
      "metadata": {
        "id": "Aq66HQAZF-ac"
      }
    },
    {
      "cell_type": "markdown",
      "source": [
        "| Concepto | Código de Ejemplo | Explicación |\n",
        "| :--- | :--- | :--- |\n",
        "| **Bucle Básico** | `contador = 0`<br><br>`while contador < 3:`<br><br>`  print(contador)`<br><br>`  contador = contador + 1` | Repite el código mientras la condición (`contador < 3`) sea `True`. |"
      ],
      "metadata": {
        "id": "pTV5RoEmF8ug"
      }
    },
    {
      "cell_type": "markdown",
      "source": [
        "### Control de Bucles"
      ],
      "metadata": {
        "id": "Xb1-nlH12U7-"
      }
    },
    {
      "cell_type": "markdown",
      "source": [
        "| Sentencia | Código de Ejemplo | Explicación |\n",
        "| :--- | :--- | :--- |\n",
        "| **`break`** | `for i in range(5):`<br><br>`  if i == 3: break`<br><br>`  print(i)` | **Detiene** la ejecución del bucle por completo. Imprime `0, 1, 2`. |\n",
        "| **`continue`** | `for i in range(5):`<br><br>`  if i == 3: continue`<br><br>`  print(i)` | **Salta** la iteración actual y pasa a la siguiente. Imprime `0, 1, 2, 4`. |"
      ],
      "metadata": {
        "id": "ZrWIeeMI2Yk7"
      }
    },
    {
      "cell_type": "markdown",
      "source": [
        "# 3. Funciones (Modularidad)"
      ],
      "metadata": {
        "id": "96nzT106Gdlb"
      }
    },
    {
      "cell_type": "markdown",
      "source": [
        "| Concepto | Código de Ejemplo | Explicación |\n",
        "| :--- | :--- | :--- |\n",
        "| **Definición** | `def saludar():`<br><br>`  print(\"¡Hola!\")`<br><br>`saludar()` | Define la función. El código se ejecuta solo al **llamarla** (`saludar()`). |\n",
        "| **Con Parámetros** | `def sumar(a, b):`<br><br>`  resultado = a + b`<br><br>`  print(resultado)`<br><br>`sumar(5, 3)` | La función recibe `a` y `b` como **argumentos**. |\n",
        "| **Con Retorno** | `def multiplicar(x, y):`<br><br>`  return x * y`<br><br>`valor = multiplicar(4, 2)`<br><br>`print(valor)` | La palabra clave **`return`** devuelve un valor que puede ser usado fuera de la función. |\n",
        "| **Parámetros por Defecto** | `def potencia(base, exp=2):`<br><br>`  return base ** exp`<br><br>`print(potencia(3))` | Si no se proporciona `exp`, usa el valor por defecto (`2`). |"
      ],
      "metadata": {
        "id": "F0LXSt0DGctL"
      }
    }
  ]
}